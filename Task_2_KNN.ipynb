{
 "cells": [
  {
   "cell_type": "markdown",
   "metadata": {},
   "source": [
    "# K-Nearest Neighbor whether a person will have diabetes or not "
   ]
  },
  {
   "cell_type": "code",
   "execution_count": 1,
   "metadata": {},
   "outputs": [],
   "source": [
    "import numpy as np\n",
    "import pandas as pd\n",
    "from sklearn.model_selection import train_test_split\n",
    "from sklearn.preprocessing import StandardScaler\n",
    "from sklearn.neighbors import KNeighborsClassifier\n",
    "from sklearn.metrics import confusion_matrix\n",
    "from sklearn.metrics import f1_score\n",
    "from sklearn.metrics import accuracy_score\n",
    "from sklearn.metrics import classification_report\n",
    "from sklearn.model_selection import cross_val_score\n",
    "import matplotlib.pyplot as plt\n",
    "%matplotlib inline"
   ]
  },
  {
   "cell_type": "code",
   "execution_count": 2,
   "metadata": {},
   "outputs": [
    {
     "name": "stdout",
     "output_type": "stream",
     "text": [
      "768\n"
     ]
    },
    {
     "data": {
      "text/html": [
       "<div>\n",
       "<style scoped>\n",
       "    .dataframe tbody tr th:only-of-type {\n",
       "        vertical-align: middle;\n",
       "    }\n",
       "\n",
       "    .dataframe tbody tr th {\n",
       "        vertical-align: top;\n",
       "    }\n",
       "\n",
       "    .dataframe thead th {\n",
       "        text-align: right;\n",
       "    }\n",
       "</style>\n",
       "<table border=\"1\" class=\"dataframe\">\n",
       "  <thead>\n",
       "    <tr style=\"text-align: right;\">\n",
       "      <th></th>\n",
       "      <th>Pregnancies</th>\n",
       "      <th>Glucose</th>\n",
       "      <th>BloodPressure</th>\n",
       "      <th>SkinThickness</th>\n",
       "      <th>Insulin</th>\n",
       "      <th>BMI</th>\n",
       "      <th>DiabetesPedigreeFunction</th>\n",
       "      <th>Age</th>\n",
       "      <th>Outcome</th>\n",
       "    </tr>\n",
       "  </thead>\n",
       "  <tbody>\n",
       "    <tr>\n",
       "      <th>0</th>\n",
       "      <td>6</td>\n",
       "      <td>148</td>\n",
       "      <td>72</td>\n",
       "      <td>35</td>\n",
       "      <td>0</td>\n",
       "      <td>33.6</td>\n",
       "      <td>0.627</td>\n",
       "      <td>50</td>\n",
       "      <td>1</td>\n",
       "    </tr>\n",
       "    <tr>\n",
       "      <th>1</th>\n",
       "      <td>1</td>\n",
       "      <td>85</td>\n",
       "      <td>66</td>\n",
       "      <td>29</td>\n",
       "      <td>0</td>\n",
       "      <td>26.6</td>\n",
       "      <td>0.351</td>\n",
       "      <td>31</td>\n",
       "      <td>0</td>\n",
       "    </tr>\n",
       "    <tr>\n",
       "      <th>2</th>\n",
       "      <td>8</td>\n",
       "      <td>183</td>\n",
       "      <td>64</td>\n",
       "      <td>0</td>\n",
       "      <td>0</td>\n",
       "      <td>23.3</td>\n",
       "      <td>0.672</td>\n",
       "      <td>32</td>\n",
       "      <td>1</td>\n",
       "    </tr>\n",
       "    <tr>\n",
       "      <th>3</th>\n",
       "      <td>1</td>\n",
       "      <td>89</td>\n",
       "      <td>66</td>\n",
       "      <td>23</td>\n",
       "      <td>94</td>\n",
       "      <td>28.1</td>\n",
       "      <td>0.167</td>\n",
       "      <td>21</td>\n",
       "      <td>0</td>\n",
       "    </tr>\n",
       "    <tr>\n",
       "      <th>4</th>\n",
       "      <td>0</td>\n",
       "      <td>137</td>\n",
       "      <td>40</td>\n",
       "      <td>35</td>\n",
       "      <td>168</td>\n",
       "      <td>43.1</td>\n",
       "      <td>2.288</td>\n",
       "      <td>33</td>\n",
       "      <td>1</td>\n",
       "    </tr>\n",
       "  </tbody>\n",
       "</table>\n",
       "</div>"
      ],
      "text/plain": [
       "   Pregnancies  Glucose  BloodPressure  SkinThickness  Insulin   BMI  \\\n",
       "0            6      148             72             35        0  33.6   \n",
       "1            1       85             66             29        0  26.6   \n",
       "2            8      183             64              0        0  23.3   \n",
       "3            1       89             66             23       94  28.1   \n",
       "4            0      137             40             35      168  43.1   \n",
       "\n",
       "   DiabetesPedigreeFunction  Age  Outcome  \n",
       "0                     0.627   50        1  \n",
       "1                     0.351   31        0  \n",
       "2                     0.672   32        1  \n",
       "3                     0.167   21        0  \n",
       "4                     2.288   33        1  "
      ]
     },
     "execution_count": 2,
     "metadata": {},
     "output_type": "execute_result"
    }
   ],
   "source": [
    "df=pd.read_csv('diabetes.csv')\n",
    "print(len(df))\n",
    "df.head()\n"
   ]
  },
  {
   "cell_type": "code",
   "execution_count": 3,
   "metadata": {},
   "outputs": [
    {
     "name": "stdout",
     "output_type": "stream",
     "text": [
      "   Pregnancies  Glucose  BloodPressure  SkinThickness  Insulin   BMI  \\\n",
      "0            6      148             72             35        0  33.6   \n",
      "1            1       85             66             29        0  26.6   \n",
      "2            8      183             64              0        0  23.3   \n",
      "3            1       89             66             23       94  28.1   \n",
      "4            0      137             40             35      168  43.1   \n",
      "\n",
      "   DiabetesPedigreeFunction  Age  Outcome  \n",
      "0                     0.627   50        1  \n",
      "1                     0.351   31        0  \n",
      "2                     0.672   32        1  \n",
      "3                     0.167   21        0  \n",
      "4                     2.288   33        1  \n"
     ]
    }
   ],
   "source": [
    "print(df.head())"
   ]
  },
  {
   "cell_type": "code",
   "execution_count": 4,
   "metadata": {},
   "outputs": [],
   "source": [
    "#replacing Zeroes\n",
    "zeroes=['Glucose', 'BloodPressure', 'SkinThickness', 'BMI', 'Insulin']\n",
    "for i in zeroes:\n",
    "    df[i]=df[i].replace(0,np.NaN)\n",
    "    mean=int (df[i].mean(skipna=True))\n",
    "    df[i]=df[i].replace(np.NaN,mean)\n"
   ]
  },
  {
   "cell_type": "code",
   "execution_count": 5,
   "metadata": {},
   "outputs": [
    {
     "name": "stdout",
     "output_type": "stream",
     "text": [
      "Training and testing split was successful\n"
     ]
    }
   ],
   "source": [
    "#splitting Datasets first training and testing \n",
    "x =df.iloc[:,0:8] #extracting independent variables \n",
    "y=df.iloc[:,8]     #o/p ,extracting dependent variables\n",
    "x_train, x_test, y_train, y_test = train_test_split(x, y ,random_state = 0, test_size = 0.2)\n",
    "print(\"Training and testing split was successful\")\n"
   ]
  },
  {
   "cell_type": "code",
   "execution_count": 6,
   "metadata": {},
   "outputs": [
    {
     "name": "stderr",
     "output_type": "stream",
     "text": [
      "C:\\ProgramData\\Anaconda3\\lib\\site-packages\\sklearn\\preprocessing\\data.py:645: DataConversionWarning: Data with input dtype int64, float64 were all converted to float64 by StandardScaler.\n",
      "  return self.partial_fit(X, y)\n",
      "C:\\ProgramData\\Anaconda3\\lib\\site-packages\\sklearn\\base.py:464: DataConversionWarning: Data with input dtype int64, float64 were all converted to float64 by StandardScaler.\n",
      "  return self.fit(X, **fit_params).transform(X)\n",
      "C:\\ProgramData\\Anaconda3\\lib\\site-packages\\ipykernel_launcher.py:4: DataConversionWarning: Data with input dtype int64, float64 were all converted to float64 by StandardScaler.\n",
      "  after removing the cwd from sys.path.\n"
     ]
    }
   ],
   "source": [
    "#feature scaling/ data scaling\n",
    "ss = StandardScaler()\n",
    "x_train = ss.fit_transform(x_train)\n",
    "x_test = ss.transform(x_test)\n"
   ]
  },
  {
   "cell_type": "code",
   "execution_count": 7,
   "metadata": {},
   "outputs": [
    {
     "name": "stdout",
     "output_type": "stream",
     "text": [
      "768\n",
      "24.779023386727733\n",
      "12.409673645990857\n"
     ]
    }
   ],
   "source": [
    "import math\n",
    "print(len(y))\n",
    "print(math.sqrt(len(y_train)))\n",
    "print(math.sqrt(len(y_test)))#get an odd no for testing so 11"
   ]
  },
  {
   "cell_type": "code",
   "execution_count": 8,
   "metadata": {},
   "outputs": [],
   "source": [
    "#Initializing the KNN model\n",
    "knn=KNeighborsClassifier(n_neighbors = 11, p = 2, metric = 'euclidean')"
   ]
  },
  {
   "cell_type": "code",
   "execution_count": 9,
   "metadata": {},
   "outputs": [
    {
     "data": {
      "text/plain": [
       "KNeighborsClassifier(algorithm='auto', leaf_size=30, metric='euclidean',\n",
       "           metric_params=None, n_jobs=None, n_neighbors=11, p=2,\n",
       "           weights='uniform')"
      ]
     },
     "execution_count": 9,
     "metadata": {},
     "output_type": "execute_result"
    }
   ],
   "source": [
    "knn.fit(x_train,y_train) # fit the model"
   ]
  },
  {
   "cell_type": "code",
   "execution_count": 10,
   "metadata": {},
   "outputs": [
    {
     "name": "stdout",
     "output_type": "stream",
     "text": [
      "0.8181818181818182\n"
     ]
    }
   ],
   "source": [
    "#for getting the predictions using the classifier fitted above\n",
    "from sklearn import metrics\n",
    "y_pred = knn.predict(x_test)\n",
    "y_pred\n",
    "print(metrics.accuracy_score(y_test, y_pred))"
   ]
  },
  {
   "cell_type": "code",
   "execution_count": 11,
   "metadata": {},
   "outputs": [
    {
     "name": "stdout",
     "output_type": "stream",
     "text": [
      "[[94 13]\n",
      " [15 32]]\n"
     ]
    }
   ],
   "source": [
    "#Evaluating Model\n",
    "conf_matrix=confusion_matrix(y_test,y_pred) #summary on prediction results on classification model\n",
    "print(conf_matrix)\n",
    "#       | predicted | predicted\n",
    "#actual |    tp       |   fn\n",
    "#actual |    fp     |     tn\n",
    "#primary diagonal is the correct ones and secondary diagonal is wrong ones"
   ]
  },
  {
   "cell_type": "code",
   "execution_count": 12,
   "metadata": {},
   "outputs": [
    {
     "name": "stdout",
     "output_type": "stream",
     "text": [
      "0.6956521739130436\n"
     ]
    }
   ],
   "source": [
    "#f1 score\n",
    "f1=f1_score(y_test,y_pred)\n",
    "print(f1)"
   ]
  },
  {
   "cell_type": "code",
   "execution_count": 13,
   "metadata": {},
   "outputs": [
    {
     "name": "stdout",
     "output_type": "stream",
     "text": [
      "0.8181818181818182\n"
     ]
    }
   ],
   "source": [
    "#Accuracy\n",
    "acc=accuracy_score(y_test,y_pred)\n",
    "print(acc)"
   ]
  },
  {
   "cell_type": "code",
   "execution_count": 14,
   "metadata": {},
   "outputs": [
    {
     "name": "stdout",
     "output_type": "stream",
     "text": [
      "              precision    recall  f1-score   support\n",
      "\n",
      "           0       0.86      0.88      0.87       107\n",
      "           1       0.71      0.68      0.70        47\n",
      "\n",
      "   micro avg       0.82      0.82      0.82       154\n",
      "   macro avg       0.79      0.78      0.78       154\n",
      "weighted avg       0.82      0.82      0.82       154\n",
      "\n"
     ]
    }
   ],
   "source": [
    "print(classification_report(y_test,y_pred))"
   ]
  },
  {
   "cell_type": "code",
   "execution_count": 15,
   "metadata": {},
   "outputs": [
    {
     "name": "stdout",
     "output_type": "stream",
     "text": [
      "[0.7532467532467533, 0.7467532467532467, 0.7857142857142857, 0.7987012987012987, 0.7597402597402597, 0.7857142857142857, 0.7922077922077922, 0.8181818181818182, 0.7987012987012987, 0.8051948051948052, 0.8181818181818182, 0.7987012987012987, 0.8181818181818182, 0.7987012987012987, 0.8116883116883117, 0.7857142857142857, 0.7857142857142857, 0.7922077922077922, 0.7792207792207793, 0.7857142857142857, 0.7792207792207793, 0.7922077922077922, 0.7857142857142857, 0.7857142857142857, 0.7922077922077922, 0.7792207792207793, 0.8181818181818182, 0.8051948051948052, 0.7987012987012987, 0.7987012987012987, 0.7987012987012987]\n"
     ]
    },
    {
     "data": {
      "text/plain": [
       "Text(0, 0.5, 'Testing Accuracy')"
      ]
     },
     "execution_count": 15,
     "metadata": {},
     "output_type": "execute_result"
    },
    {
     "data": {
      "image/png": "[encoded data removed]",
      "text/plain": [
       "<Figure size 432x288 with 1 Axes>"
      ]
     },
     "metadata": {
      "needs_background": "light"
     },
     "output_type": "display_data"
    }
   ],
   "source": [
    "# try K=1 through K=31 and record testing accuracy\n",
    "k_range = range(1, 32)\n",
    "\n",
    "# We can create Python dictionary using [] or dict()\n",
    "scores = []\n",
    "\n",
    "# We use a loop through the range 1 to 26\n",
    "# We append the scores in the dictionary\n",
    "for i in k_range:\n",
    "    knn = KNeighborsClassifier(n_neighbors=i)\n",
    "    knn.fit(x_train, y_train)\n",
    "    y_pred = knn.predict(x_test)\n",
    "    scores.append(metrics.accuracy_score(y_test, y_pred))\n",
    "\n",
    "print(scores)\n",
    "\n",
    "plt.plot(k_range, scores)\n",
    "plt.xlabel('Value of K for KNN')\n",
    "plt.ylabel('Testing Accuracy')"
   ]
  },
  {
   "cell_type": "markdown",
   "metadata": {},
   "source": [
    "# How to use GridSearchCV in this knn example"
   ]
  },
  {
   "cell_type": "code",
   "execution_count": 16,
   "metadata": {},
   "outputs": [
    {
     "name": "stdout",
     "output_type": "stream",
     "text": [
      "Fitting 5 folds for each of 124 candidates, totalling 620 fits\n"
     ]
    },
    {
     "name": "stderr",
     "output_type": "stream",
     "text": [
      "[Parallel(n_jobs=-1)]: Using backend LokyBackend with 4 concurrent workers.\n",
      "[Parallel(n_jobs=-1)]: Done  42 tasks      | elapsed:  1.4min\n"
     ]
    },
    {
     "name": "stdout",
     "output_type": "stream",
     "text": [
      "\n",
      "\n",
      "GridSearchCV(cv=5, error_score='raise-deprecating',\n",
      "       estimator=KNeighborsClassifier(algorithm='auto', leaf_size=30, metric='minkowski',\n",
      "           metric_params=None, n_jobs=None, n_neighbors=5, p=2,\n",
      "           weights='uniform'),\n",
      "       fit_params=None, iid='warn', n_jobs=-1,\n",
      "       param_grid={'n_neighbors': [1, 2, 3, 4, 5, 6, 7, 8, 9, 10, 11, 12, 13, 14, 15, 16, 17, 18, 19, 20, 21, 22, 23, 24, 25, 26, 27, 28, 29, 30, 31], 'weights': ['uniform', 'distance'], 'metric': ['euclidean', 'manhattan']},\n",
      "       pre_dispatch='2*n_jobs', refit=True, return_train_score='warn',\n",
      "       scoring='accuracy', verbose=1)\n"
     ]
    },
    {
     "name": "stderr",
     "output_type": "stream",
     "text": [
      "[Parallel(n_jobs=-1)]: Done 620 out of 620 | elapsed:  1.5min finished\n",
      "C:\\ProgramData\\Anaconda3\\lib\\site-packages\\sklearn\\model_selection\\_search.py:841: DeprecationWarning: The default of the `iid` parameter will change from True to False in version 0.22 and will be removed in 0.24. This will change numeric results when test-set sizes are unequal.\n",
      "  DeprecationWarning)\n"
     ]
    }
   ],
   "source": [
    "from sklearn.model_selection import GridSearchCV\n",
    "k_range = list(range(1,32))\n",
    "grid_params={#'n_neighbors':[7,11,19,23,29,31,37],\n",
    "            'n_neighbors':list(range(1,32)),\n",
    "             'weights':['uniform', 'distance'], \n",
    "             'metric': ['euclidean','manhattan']}\n",
    "\n",
    "\n",
    "grid=GridSearchCV(KNeighborsClassifier(), grid_params, cv=5, scoring = 'accuracy', verbose = 1, n_jobs = -1)\n",
    "#total 7*2*3*4 = 168 times the model will be running\n",
    "grid_results = grid.fit(x_train, y_train)\n",
    "print(\"\\n\")\n",
    "print(grid_results)\n"
   ]
  },
  {
   "cell_type": "code",
   "execution_count": 17,
   "metadata": {},
   "outputs": [
    {
     "name": "stdout",
     "output_type": "stream",
     "text": [
      "Parameters:\n",
      " [{'metric': 'euclidean', 'n_neighbors': 1, 'weights': 'uniform'}, {'metric': 'euclidean', 'n_neighbors': 1, 'weights': 'distance'}, {'metric': 'euclidean', 'n_neighbors': 2, 'weights': 'uniform'}, {'metric': 'euclidean', 'n_neighbors': 2, 'weights': 'distance'}, {'metric': 'euclidean', 'n_neighbors': 3, 'weights': 'uniform'}, {'metric': 'euclidean', 'n_neighbors': 3, 'weights': 'distance'}, {'metric': 'euclidean', 'n_neighbors': 4, 'weights': 'uniform'}, {'metric': 'euclidean', 'n_neighbors': 4, 'weights': 'distance'}, {'metric': 'euclidean', 'n_neighbors': 5, 'weights': 'uniform'}, {'metric': 'euclidean', 'n_neighbors': 5, 'weights': 'distance'}, {'metric': 'euclidean', 'n_neighbors': 6, 'weights': 'uniform'}, {'metric': 'euclidean', 'n_neighbors': 6, 'weights': 'distance'}, {'metric': 'euclidean', 'n_neighbors': 7, 'weights': 'uniform'}, {'metric': 'euclidean', 'n_neighbors': 7, 'weights': 'distance'}, {'metric': 'euclidean', 'n_neighbors': 8, 'weights': 'uniform'}, {'metric': 'euclidean', 'n_neighbors': 8, 'weights': 'distance'}, {'metric': 'euclidean', 'n_neighbors': 9, 'weights': 'uniform'}, {'metric': 'euclidean', 'n_neighbors': 9, 'weights': 'distance'}, {'metric': 'euclidean', 'n_neighbors': 10, 'weights': 'uniform'}, {'metric': 'euclidean', 'n_neighbors': 10, 'weights': 'distance'}, {'metric': 'euclidean', 'n_neighbors': 11, 'weights': 'uniform'}, {'metric': 'euclidean', 'n_neighbors': 11, 'weights': 'distance'}, {'metric': 'euclidean', 'n_neighbors': 12, 'weights': 'uniform'}, {'metric': 'euclidean', 'n_neighbors': 12, 'weights': 'distance'}, {'metric': 'euclidean', 'n_neighbors': 13, 'weights': 'uniform'}, {'metric': 'euclidean', 'n_neighbors': 13, 'weights': 'distance'}, {'metric': 'euclidean', 'n_neighbors': 14, 'weights': 'uniform'}, {'metric': 'euclidean', 'n_neighbors': 14, 'weights': 'distance'}, {'metric': 'euclidean', 'n_neighbors': 15, 'weights': 'uniform'}, {'metric': 'euclidean', 'n_neighbors': 15, 'weights': 'distance'}, {'metric': 'euclidean', 'n_neighbors': 16, 'weights': 'uniform'}, {'metric': 'euclidean', 'n_neighbors': 16, 'weights': 'distance'}, {'metric': 'euclidean', 'n_neighbors': 17, 'weights': 'uniform'}, {'metric': 'euclidean', 'n_neighbors': 17, 'weights': 'distance'}, {'metric': 'euclidean', 'n_neighbors': 18, 'weights': 'uniform'}, {'metric': 'euclidean', 'n_neighbors': 18, 'weights': 'distance'}, {'metric': 'euclidean', 'n_neighbors': 19, 'weights': 'uniform'}, {'metric': 'euclidean', 'n_neighbors': 19, 'weights': 'distance'}, {'metric': 'euclidean', 'n_neighbors': 20, 'weights': 'uniform'}, {'metric': 'euclidean', 'n_neighbors': 20, 'weights': 'distance'}, {'metric': 'euclidean', 'n_neighbors': 21, 'weights': 'uniform'}, {'metric': 'euclidean', 'n_neighbors': 21, 'weights': 'distance'}, {'metric': 'euclidean', 'n_neighbors': 22, 'weights': 'uniform'}, {'metric': 'euclidean', 'n_neighbors': 22, 'weights': 'distance'}, {'metric': 'euclidean', 'n_neighbors': 23, 'weights': 'uniform'}, {'metric': 'euclidean', 'n_neighbors': 23, 'weights': 'distance'}, {'metric': 'euclidean', 'n_neighbors': 24, 'weights': 'uniform'}, {'metric': 'euclidean', 'n_neighbors': 24, 'weights': 'distance'}, {'metric': 'euclidean', 'n_neighbors': 25, 'weights': 'uniform'}, {'metric': 'euclidean', 'n_neighbors': 25, 'weights': 'distance'}, {'metric': 'euclidean', 'n_neighbors': 26, 'weights': 'uniform'}, {'metric': 'euclidean', 'n_neighbors': 26, 'weights': 'distance'}, {'metric': 'euclidean', 'n_neighbors': 27, 'weights': 'uniform'}, {'metric': 'euclidean', 'n_neighbors': 27, 'weights': 'distance'}, {'metric': 'euclidean', 'n_neighbors': 28, 'weights': 'uniform'}, {'metric': 'euclidean', 'n_neighbors': 28, 'weights': 'distance'}, {'metric': 'euclidean', 'n_neighbors': 29, 'weights': 'uniform'}, {'metric': 'euclidean', 'n_neighbors': 29, 'weights': 'distance'}, {'metric': 'euclidean', 'n_neighbors': 30, 'weights': 'uniform'}, {'metric': 'euclidean', 'n_neighbors': 30, 'weights': 'distance'}, {'metric': 'euclidean', 'n_neighbors': 31, 'weights': 'uniform'}, {'metric': 'euclidean', 'n_neighbors': 31, 'weights': 'distance'}, {'metric': 'manhattan', 'n_neighbors': 1, 'weights': 'uniform'}, {'metric': 'manhattan', 'n_neighbors': 1, 'weights': 'distance'}, {'metric': 'manhattan', 'n_neighbors': 2, 'weights': 'uniform'}, {'metric': 'manhattan', 'n_neighbors': 2, 'weights': 'distance'}, {'metric': 'manhattan', 'n_neighbors': 3, 'weights': 'uniform'}, {'metric': 'manhattan', 'n_neighbors': 3, 'weights': 'distance'}, {'metric': 'manhattan', 'n_neighbors': 4, 'weights': 'uniform'}, {'metric': 'manhattan', 'n_neighbors': 4, 'weights': 'distance'}, {'metric': 'manhattan', 'n_neighbors': 5, 'weights': 'uniform'}, {'metric': 'manhattan', 'n_neighbors': 5, 'weights': 'distance'}, {'metric': 'manhattan', 'n_neighbors': 6, 'weights': 'uniform'}, {'metric': 'manhattan', 'n_neighbors': 6, 'weights': 'distance'}, {'metric': 'manhattan', 'n_neighbors': 7, 'weights': 'uniform'}, {'metric': 'manhattan', 'n_neighbors': 7, 'weights': 'distance'}, {'metric': 'manhattan', 'n_neighbors': 8, 'weights': 'uniform'}, {'metric': 'manhattan', 'n_neighbors': 8, 'weights': 'distance'}, {'metric': 'manhattan', 'n_neighbors': 9, 'weights': 'uniform'}, {'metric': 'manhattan', 'n_neighbors': 9, 'weights': 'distance'}, {'metric': 'manhattan', 'n_neighbors': 10, 'weights': 'uniform'}, {'metric': 'manhattan', 'n_neighbors': 10, 'weights': 'distance'}, {'metric': 'manhattan', 'n_neighbors': 11, 'weights': 'uniform'}, {'metric': 'manhattan', 'n_neighbors': 11, 'weights': 'distance'}, {'metric': 'manhattan', 'n_neighbors': 12, 'weights': 'uniform'}, {'metric': 'manhattan', 'n_neighbors': 12, 'weights': 'distance'}, {'metric': 'manhattan', 'n_neighbors': 13, 'weights': 'uniform'}, {'metric': 'manhattan', 'n_neighbors': 13, 'weights': 'distance'}, {'metric': 'manhattan', 'n_neighbors': 14, 'weights': 'uniform'}, {'metric': 'manhattan', 'n_neighbors': 14, 'weights': 'distance'}, {'metric': 'manhattan', 'n_neighbors': 15, 'weights': 'uniform'}, {'metric': 'manhattan', 'n_neighbors': 15, 'weights': 'distance'}, {'metric': 'manhattan', 'n_neighbors': 16, 'weights': 'uniform'}, {'metric': 'manhattan', 'n_neighbors': 16, 'weights': 'distance'}, {'metric': 'manhattan', 'n_neighbors': 17, 'weights': 'uniform'}, {'metric': 'manhattan', 'n_neighbors': 17, 'weights': 'distance'}, {'metric': 'manhattan', 'n_neighbors': 18, 'weights': 'uniform'}, {'metric': 'manhattan', 'n_neighbors': 18, 'weights': 'distance'}, {'metric': 'manhattan', 'n_neighbors': 19, 'weights': 'uniform'}, {'metric': 'manhattan', 'n_neighbors': 19, 'weights': 'distance'}, {'metric': 'manhattan', 'n_neighbors': 20, 'weights': 'uniform'}, {'metric': 'manhattan', 'n_neighbors': 20, 'weights': 'distance'}, {'metric': 'manhattan', 'n_neighbors': 21, 'weights': 'uniform'}, {'metric': 'manhattan', 'n_neighbors': 21, 'weights': 'distance'}, {'metric': 'manhattan', 'n_neighbors': 22, 'weights': 'uniform'}, {'metric': 'manhattan', 'n_neighbors': 22, 'weights': 'distance'}, {'metric': 'manhattan', 'n_neighbors': 23, 'weights': 'uniform'}, {'metric': 'manhattan', 'n_neighbors': 23, 'weights': 'distance'}, {'metric': 'manhattan', 'n_neighbors': 24, 'weights': 'uniform'}, {'metric': 'manhattan', 'n_neighbors': 24, 'weights': 'distance'}, {'metric': 'manhattan', 'n_neighbors': 25, 'weights': 'uniform'}, {'metric': 'manhattan', 'n_neighbors': 25, 'weights': 'distance'}, {'metric': 'manhattan', 'n_neighbors': 26, 'weights': 'uniform'}, {'metric': 'manhattan', 'n_neighbors': 26, 'weights': 'distance'}, {'metric': 'manhattan', 'n_neighbors': 27, 'weights': 'uniform'}, {'metric': 'manhattan', 'n_neighbors': 27, 'weights': 'distance'}, {'metric': 'manhattan', 'n_neighbors': 28, 'weights': 'uniform'}, {'metric': 'manhattan', 'n_neighbors': 28, 'weights': 'distance'}, {'metric': 'manhattan', 'n_neighbors': 29, 'weights': 'uniform'}, {'metric': 'manhattan', 'n_neighbors': 29, 'weights': 'distance'}, {'metric': 'manhattan', 'n_neighbors': 30, 'weights': 'uniform'}, {'metric': 'manhattan', 'n_neighbors': 30, 'weights': 'distance'}, {'metric': 'manhattan', 'n_neighbors': 31, 'weights': 'uniform'}, {'metric': 'manhattan', 'n_neighbors': 31, 'weights': 'distance'}]\n",
      "\n",
      "\n",
      "\n"
     ]
    },
    {
     "name": "stdout",
     "output_type": "stream",
     "text": [
      "[1.         1.         0.83509154 1.         0.83916653 1.\n",
      " 0.81351617 1.         0.81555284 1.         0.79762771 1.\n",
      " 0.79641068 1.         0.79233486 1.         0.80047821 1.\n",
      " 0.78338184 1.         0.78745683 1.         0.7825738  1.\n",
      " 0.78298196 1.         0.77930933 1.         0.77849965 1.\n",
      " 0.77564831 1.         0.78256799 1.         0.77605315 1.\n",
      " 0.78542594 1.         0.77239959 1.         0.78094446 1.\n",
      " 0.77117096 1.         0.7768703  1.         0.76790981 1.\n",
      " 0.76995144 1.         0.76220798 1.         0.76181226 1.\n",
      " 0.75936412 1.         0.76303011 1.         0.75366643 1.\n",
      " 0.7593691  1.         1.         1.         0.83549804 1.\n",
      " 0.84160059 1.         0.80781932 1.         0.80577188 1.\n",
      " 0.79070386 1.         0.80659483 1.         0.79640737 1.\n",
      " 0.80984603 1.         0.7943707  1.         0.79314787 1.\n",
      " 0.77930934 1.         0.78378917 1.         0.77889454 1.\n",
      " 0.78378668 1.         0.77686699 1.         0.78175747 1.\n",
      " 0.77564913 1.         0.77850544 1.         0.77034801 1.\n",
      " 0.78012731 1.         0.76872281 1.         0.77360916 1.\n",
      " 0.77075699 1.         0.77157166 1.         0.77034801 1.\n",
      " 0.77075617 1.         0.76627302 1.         0.76219886 1.\n",
      " 0.75813134 1.         0.75772152 1.        ]\n",
      "\n",
      "\n",
      "\n",
      "[0.66938111 0.66938111 0.68566775 0.66938111 0.70846906 0.70358306\n",
      " 0.71335505 0.71986971 0.73289902 0.72801303 0.73289902 0.72149837\n",
      " 0.74104235 0.74104235 0.72964169 0.73452769 0.747557   0.75081433\n",
      " 0.73615635 0.74104235 0.74104235 0.747557   0.73941368 0.73452769\n",
      " 0.74104235 0.74592834 0.74592834 0.75407166 0.74592834 0.74592834\n",
      " 0.74104235 0.74592834 0.747557   0.74592834 0.74104235 0.74918567\n",
      " 0.74104235 0.74267101 0.74267101 0.74592834 0.73615635 0.73452769\n",
      " 0.73615635 0.74592834 0.73941368 0.73778502 0.73615635 0.73941368\n",
      " 0.73778502 0.73941368 0.74267101 0.74104235 0.74429967 0.73941368\n",
      " 0.74267101 0.73615635 0.74429967 0.73778502 0.73615635 0.73452769\n",
      " 0.74104235 0.73941368 0.64983713 0.64983713 0.66612378 0.64983713\n",
      " 0.69869707 0.69055375 0.71009772 0.68892508 0.72638436 0.7247557\n",
      " 0.73127036 0.70846906 0.73941368 0.73941368 0.73127036 0.72149837\n",
      " 0.75081433 0.74267101 0.73941368 0.74104235 0.74104235 0.73615635\n",
      " 0.73778502 0.74104235 0.74267101 0.74104235 0.73615635 0.747557\n",
      " 0.74429967 0.73615635 0.74592834 0.75081433 0.74429967 0.74592834\n",
      " 0.72964169 0.74429967 0.74429967 0.74104235 0.73778502 0.75081433\n",
      " 0.73778502 0.73289902 0.74592834 0.74918567 0.73778502 0.73615635\n",
      " 0.747557   0.75081433 0.73615635 0.73615635 0.747557   0.74592834\n",
      " 0.74104235 0.74104235 0.73289902 0.73941368 0.73452769 0.73941368\n",
      " 0.73127036 0.73452769 0.73289902 0.73452769]\n",
      "\n",
      "\n",
      "Mean Train Score : 0.895513370907499\n",
      "\n",
      "\n",
      "Mean Test Score : 0.7324787222864347\n"
     ]
    },
    {
     "name": "stderr",
     "output_type": "stream",
     "text": [
      "C:\\ProgramData\\Anaconda3\\lib\\site-packages\\sklearn\\utils\\deprecation.py:125: FutureWarning: You are accessing a training score ('mean_train_score'), which will not be available by default any more in 0.21. If you need training scores, please set return_train_score=True\n",
      "  warnings.warn(*warn_args, **warn_kwargs)\n"
     ]
    }
   ],
   "source": [
    "#print(grid.cv_results_)\n",
    "#we are interested just in mean_test_score for a strict evaluation of the hyper-parameters' performances, \n",
    "#but mean_train_score can help us figure out how much the model has fitted the data using certain parameters \n",
    "#and how much this is relative to test data (for instance by building a validation curve plot\n",
    "\n",
    "print('Parameters:\\n',grid.cv_results_['params'])\n",
    "print(\"\\n\\n\")\n",
    "print(grid.cv_results_['mean_train_score'])\n",
    "print(\"\\n\\n\")\n",
    "\n",
    "print(grid.cv_results_['mean_test_score'])\n",
    "print(\"\\n\")\n",
    "print('Mean Train Score :', grid.cv_results_['mean_train_score'].mean())\n",
    "print(\"\\n\")\n",
    "print('Mean Test Score :', grid.cv_results_['mean_test_score'].mean())\n"
   ]
  },
  {
   "cell_type": "code",
   "execution_count": null,
   "metadata": {},
   "outputs": [],
   "source": [
    "print (grid.best_score_)\n",
    "print (grid.best_params_)\n",
    "print (grid.best_estimator_)"
   ]
  },
  {
   "cell_type": "code",
   "execution_count": null,
   "metadata": {},
   "outputs": [],
   "source": [
    "from sklearn.metrics import accuracy_score\n",
    "\n",
    "scores = []\n",
    "for i in k_range:\n",
    "    model = KNeighborsClassifier(metric = \"euclidean\", n_neighbors = i , weights = \"distance\")\n",
    "    model.fit(x_train, y_train)\n",
    "    y_pred = model.predict(x_test)\n",
    "    scores.append(accuracy_score(y_test,y_pred))\n",
    "    \n",
    "plt.plot(k_range,scores)"
   ]
  }
 ],
 "metadata": {
  "kernelspec": {
   "display_name": "Python 3",
   "language": "python",
   "name": "python3"
  },
  "language_info": {
   "codemirror_mode": {
    "name": "ipython",
    "version": 3
   },
   "file_extension": ".py",
   "mimetype": "text/x-python",
   "name": "python",
   "nbconvert_exporter": "python",
   "pygments_lexer": "ipython3",
   "version": "3.7.3"
  }
 },
 "nbformat": 4,
 "nbformat_minor": 2
}
